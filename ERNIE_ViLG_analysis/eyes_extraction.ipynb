{
 "cells": [
  {
   "cell_type": "code",
   "execution_count": null,
   "id": "44881e48",
   "metadata": {},
   "outputs": [],
   "source": [
    "from keras.models import load_model\n",
    "!pip install mtcnn\n",
    "# confirm mtcnn was installed correctly\n",
    "import mtcnn\n",
    "# print version\n",
    "print(mtcnn.__version__)\n",
    "\n",
    "import numpy as np\n",
    "from mtcnn.mtcnn import MTCNN\n",
    "from numpy import asarray\n",
    "#!pip install pycocotools\n",
    "import io\n",
    "import os\n",
    "from pycocotools.coco import COCO\n",
    "from PIL import Image\n",
    "import matplotlib.pyplot as plt\n",
    "\n",
    "\n",
    "# Simple python package to shut up Tensorflow warnings and logs.\n",
    "!pip install silence_tensorflow\n",
    "import silence_tensorflow.auto"
   ]
  },
  {
   "cell_type": "code",
   "execution_count": null,
   "id": "a0f67c5a",
   "metadata": {},
   "outputs": [],
   "source": [
    "#set up folders for extracted faces and the corresponding captions \n",
    "# initialize COCO API for instance annotations\n",
    "import os\n",
    "dataDir = './'\n",
    "\n",
    "image_folder = \"extracted_eyes\"\n",
    "\n",
    "savedirimage = dataDir +  image_folder + \"/\"\n",
    "\n",
    "\n",
    "if not os.path.exists(savedirimage):\n",
    "\tos.makedirs(savedirimage)"
   ]
  },
  {
   "cell_type": "code",
   "execution_count": null,
   "id": "416a3995",
   "metadata": {},
   "outputs": [],
   "source": [
    "# extract eyes from extracted_face_image\n",
    "def extract_eyes_from_extratced_face(filename, index, required_size = (300,100),left_eye_corner = 20, right_eye_corner = 230):\n",
    "    # load image from file\n",
    "    image = Image.open(filename)\n",
    "    # convert to RGB, if needed\n",
    "    image = image.convert('RGB')\n",
    "    # convert to array\n",
    "    pixels = np.asarray(image)\n",
    "    # create the detector, using default weights\n",
    "    detector = MTCNN()\n",
    "    # detect faces in the image\n",
    "    results = detector.detect_faces(pixels)\n",
    "    if len(results)>=1:\n",
    "        left_right_eye_x_diff = results[0]['keypoints']['right_eye'][0] - results[0]['keypoints']['left_eye'][0] \n",
    "        left_right_eye_y_diff = abs(results[0]['keypoints']['right_eye'][1] - results[0]['keypoints']['left_eye'][1]) \n",
    "    else:\n",
    "        return False\n",
    "    # extract the bounding box from the first face\n",
    "    if left_right_eye_x_diff>=100 and left_right_eye_y_diff < 8:\n",
    "        #print(results[0])\n",
    "        xeye = left_eye_corner\n",
    "        yeye = int((results[0]['keypoints']['left_eye'][1]+results[0]['keypoints']['right_eye'][1])/2 -10)\n",
    "        width = right_eye_corner\n",
    "        height = int((yeye+results[0]['keypoints']['nose'][1])/2)\n",
    "        eyes = pixels[yeye:height, xeye:width]\n",
    "        # resize pixels to the model size\n",
    "        image = Image.fromarray(eyes)\n",
    "        image = image.resize(required_size)\n",
    "        eyes_array = np.asarray(image)\n",
    "        #plt.imshow(eyes_array)\n",
    "        plt.imsave(os.path.join(savedirimage, 'eyes_img_{}.jpg'.format(index)),eyes_array)\n",
    "        return True\n",
    "    return False"
   ]
  },
  {
   "cell_type": "code",
   "execution_count": null,
   "id": "516f77ed",
   "metadata": {},
   "outputs": [],
   "source": [
    "files = os.listdir('../extracted_faces_from_COCO/')"
   ]
  },
  {
   "cell_type": "code",
   "execution_count": null,
   "id": "53735285",
   "metadata": {},
   "outputs": [],
   "source": [
    "len(files)"
   ]
  },
  {
   "cell_type": "code",
   "execution_count": null,
   "id": "3c173243",
   "metadata": {},
   "outputs": [],
   "source": [
    "index =0\n",
    "for file in files:\n",
    "    if extract_eyes_from_extratced_face(os.path.join('../extracted_faces_from_COCO/',file), index = index):\n",
    "        print(index)\n",
    "        index+=1"
   ]
  },
  {
   "cell_type": "code",
   "execution_count": null,
   "id": "f56931c4",
   "metadata": {},
   "outputs": [],
   "source": []
  },
  {
   "cell_type": "code",
   "execution_count": null,
   "id": "ccf62f94",
   "metadata": {},
   "outputs": [],
   "source": []
  }
 ],
 "metadata": {
  "kernelspec": {
   "display_name": "Python 3 (ipykernel)",
   "language": "python",
   "name": "python3"
  },
  "language_info": {
   "codemirror_mode": {
    "name": "ipython",
    "version": 3
   },
   "file_extension": ".py",
   "mimetype": "text/x-python",
   "name": "python",
   "nbconvert_exporter": "python",
   "pygments_lexer": "ipython3",
   "version": "3.8.13"
  }
 },
 "nbformat": 4,
 "nbformat_minor": 5
}
