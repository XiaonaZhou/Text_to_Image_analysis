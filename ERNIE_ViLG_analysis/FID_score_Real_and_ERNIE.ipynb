{
 "cells": [
  {
   "cell_type": "markdown",
   "id": "c2de3c14",
   "metadata": {},
   "source": [
    "# Calculating FID Scores"
   ]
  },
  {
   "cell_type": "markdown",
   "id": "f9032294",
   "metadata": {},
   "source": [
    "## 1. Real face image FID score "
   ]
  },
  {
   "cell_type": "code",
   "execution_count": null,
   "id": "d8d05827",
   "metadata": {},
   "outputs": [],
   "source": [
    "# !pip install pytorch-fid"
   ]
  },
  {
   "cell_type": "code",
   "execution_count": null,
   "id": "188d4aca",
   "metadata": {},
   "outputs": [],
   "source": [
    "import os\n",
    "import cv2\n",
    "import numpy as np\n",
    "import shutil\n",
    "np.random.seed(5824)\n",
    "num_imgs = 5000\n",
    "for k in range(10):\n",
    "    # split real faces into two folders \n",
    "    files = os.listdir('../extracted_faces_from_COCO/')\n",
    "    np.random.shuffle(files)\n",
    "\n",
    "    if os.path.exists('extracted_faces_from_COCO_1/'):\n",
    "        shutil.rmtree('extracted_faces_from_COCO_1/')  \n",
    "    os.mkdir('extracted_faces_from_COCO_1/')    \n",
    "\n",
    "\n",
    "    if os.path.exists('extracted_faces_from_COCO_2/'):\n",
    "        shutil.rmtree('extracted_faces_from_COCO_2/')  \n",
    "    os.mkdir('extracted_faces_from_COCO_2/')    \n",
    "\n",
    "\n",
    "    for i, f in enumerate(files[:10000]):\n",
    "        if i%2:\n",
    "            shutil.copy(f'../extracted_faces_from_COCO/{f}',f'extracted_faces_from_COCO_1/{f}')\n",
    "        else:\n",
    "            shutil.copy(f'../extracted_faces_from_COCO/{f}',f'extracted_faces_from_COCO_2/{f}')    \n",
    "\n",
    "\n",
    "    !python -m pytorch_fid extracted_faces_from_COCO_1/ extracted_faces_from_COCO_2/ --device cuda:0"
   ]
  },
  {
   "cell_type": "markdown",
   "id": "66a7e108",
   "metadata": {},
   "source": [
    "## 2. Real eyes image FID score"
   ]
  },
  {
   "cell_type": "code",
   "execution_count": null,
   "id": "fb6459f3",
   "metadata": {},
   "outputs": [],
   "source": [
    "import os\n",
    "import cv2\n",
    "import numpy as np\n",
    "import shutil\n",
    "np.random.seed(5824)\n",
    "num_imgs = 1000\n",
    "for k in range(10):\n",
    "    # split real faces into two folders \n",
    "    files = os.listdir('../extracted_eyes/')\n",
    "    np.random.shuffle(files)\n",
    "\n",
    "    if os.path.exists('extracted_eyes_from_COCO_1/'):\n",
    "        shutil.rmtree('extracted_eyes_from_COCO_1/')  \n",
    "    os.mkdir('extracted_eyes_from_COCO_1/')    \n",
    "\n",
    "\n",
    "    if os.path.exists('extracted_eyes_from_COCO_2/'):\n",
    "        shutil.rmtree('extracted_eyes_from_COCO_2/')  \n",
    "    os.mkdir('extracted_eyes_from_COCO_2/')    \n",
    "\n",
    "\n",
    "    for i, f in enumerate(files[:2000]):\n",
    "        if i%2:\n",
    "            shutil.copy(f'../extracted_eyes/{f}',f'extracted_eyes_from_COCO_1/{f}')\n",
    "        else:\n",
    "            shutil.copy(f'../extracted_eyes/{f}',f'extracted_eyes_from_COCO_2/{f}')    \n",
    "\n",
    "\n",
    "    !python -m pytorch_fid extracted_eyes_from_COCO_1/ extracted_eyes_from_COCO_2/ --device cuda:0"
   ]
  },
  {
   "cell_type": "markdown",
   "id": "bac8ea6d",
   "metadata": {},
   "source": [
    "## 3. Real mouth image FID score"
   ]
  },
  {
   "cell_type": "markdown",
   "id": "42507d90",
   "metadata": {},
   "source": [
    "There are only 1963 mouth images extracted from 10k face images.\n",
    "\n",
    "Randomly sample 37 images and add them to extracted_mouth for FID calculation"
   ]
  },
  {
   "cell_type": "code",
   "execution_count": null,
   "id": "90bff6f0",
   "metadata": {},
   "outputs": [],
   "source": [
    "files = os.listdir('../extracted_mouth/')\n",
    "np.random.shuffle(files)\n",
    "len(files)"
   ]
  },
  {
   "cell_type": "code",
   "execution_count": null,
   "id": "d14c7230",
   "metadata": {},
   "outputs": [],
   "source": [
    "if os.path.exists('Added_extracted_mouth'):\n",
    "        shutil.rmtree('Added_extracted_mouth')  \n",
    "os.mkdir('Added_extracted_mouth')\n",
    "img_path = '../extracted_mouth/'\n",
    "num_imgs = 2000\n",
    "count = 0\n",
    "while count < num_imgs:\n",
    "    for f_name in files:\n",
    "        image = cv2.imread(os.path.join(img_path,f_name))\n",
    "        cv2.imwrite(os.path.join('Added_extracted_mouth/', 'mouth_img_{}.jpg'.format(count)), image)\n",
    "        count += 1\n",
    "        #print(count)\n",
    "        if count >= num_imgs: break "
   ]
  },
  {
   "cell_type": "code",
   "execution_count": null,
   "id": "b7cd2a3d",
   "metadata": {},
   "outputs": [],
   "source": [
    "import os\n",
    "import cv2\n",
    "import numpy as np\n",
    "import shutil\n",
    "np.random.seed(5824)\n",
    "num_imgs = 1000\n",
    "for k in range(10):\n",
    "    # split real faces into two folders \n",
    "    files = os.listdir('Added_extracted_mouth/')\n",
    "    np.random.shuffle(files)\n",
    "\n",
    "    if os.path.exists('extracted_mouth_from_COCO_1/'):\n",
    "        shutil.rmtree('extracted_mouth_from_COCO_1/')  \n",
    "    os.mkdir('extracted_mouth_from_COCO_1/')    \n",
    "\n",
    "\n",
    "    if os.path.exists('extracted_mouth_from_COCO_2/'):\n",
    "        shutil.rmtree('extracted_mouth_from_COCO_2/')  \n",
    "    os.mkdir('extracted_mouth_from_COCO_2/')    \n",
    "\n",
    "    for i, f in enumerate(files[:len(files)]):\n",
    "        if i%2:\n",
    "            shutil.copy(f'Added_extracted_mouth/{f}',f'extracted_mouth_from_COCO_1/{f}')\n",
    "        else:\n",
    "            shutil.copy(f'Added_extracted_mouth/{f}',f'extracted_mouth_from_COCO_2/{f}')    \n",
    "\n",
    "\n",
    "    !python -m pytorch_fid extracted_mouth_from_COCO_1/ extracted_mouth_from_COCO_2/ --device cuda:0"
   ]
  },
  {
   "cell_type": "markdown",
   "id": "069e8ecc",
   "metadata": {},
   "source": [
    "## 4. Generated face images from ERNIE-ViLG FID score"
   ]
  },
  {
   "cell_type": "code",
   "execution_count": 2,
   "id": "039ce33b",
   "metadata": {},
   "outputs": [
    {
     "name": "stdout",
     "output_type": "stream",
     "text": [
      "0\n",
      "FID_real_face/\n",
      "FID_generated_face/\n"
     ]
    },
    {
     "ename": "error",
     "evalue": "OpenCV(4.6.0) /io/opencv/modules/imgcodecs/src/loadsave.cpp:801: error: (-215:Assertion failed) !_img.empty() in function 'imwrite'\n",
     "output_type": "error",
     "traceback": [
      "\u001b[0;31m---------------------------------------------------------------------------\u001b[0m",
      "\u001b[0;31merror\u001b[0m                                     Traceback (most recent call last)",
      "Cell \u001b[0;32mIn [2], line 30\u001b[0m\n\u001b[1;32m     28\u001b[0m \u001b[38;5;28;01mfor\u001b[39;00m f_name \u001b[38;5;129;01min\u001b[39;00m files:\n\u001b[1;32m     29\u001b[0m     image \u001b[38;5;241m=\u001b[39m cv2\u001b[38;5;241m.\u001b[39mimread(os\u001b[38;5;241m.\u001b[39mpath\u001b[38;5;241m.\u001b[39mjoin(img_path,f_name))\n\u001b[0;32m---> 30\u001b[0m     \u001b[43mcv2\u001b[49m\u001b[38;5;241;43m.\u001b[39;49m\u001b[43mimwrite\u001b[49m\u001b[43m(\u001b[49m\u001b[43mos\u001b[49m\u001b[38;5;241;43m.\u001b[39;49m\u001b[43mpath\u001b[49m\u001b[38;5;241;43m.\u001b[39;49m\u001b[43mjoin\u001b[49m\u001b[43m(\u001b[49m\u001b[43msave_path\u001b[49m\u001b[43m,\u001b[49m\u001b[43m \u001b[49m\u001b[38;5;124;43m'\u001b[39;49m\u001b[38;5;124;43mface_img_\u001b[39;49m\u001b[38;5;132;43;01m{}\u001b[39;49;00m\u001b[38;5;124;43m.jpg\u001b[39;49m\u001b[38;5;124;43m'\u001b[39;49m\u001b[38;5;241;43m.\u001b[39;49m\u001b[43mformat\u001b[49m\u001b[43m(\u001b[49m\u001b[43mcount\u001b[49m\u001b[43m)\u001b[49m\u001b[43m)\u001b[49m\u001b[43m,\u001b[49m\u001b[43m \u001b[49m\u001b[43mimage\u001b[49m\u001b[43m)\u001b[49m\n\u001b[1;32m     32\u001b[0m     count \u001b[38;5;241m+\u001b[39m\u001b[38;5;241m=\u001b[39m \u001b[38;5;241m1\u001b[39m\n\u001b[1;32m     33\u001b[0m     \u001b[38;5;66;03m#print(count)\u001b[39;00m\n",
      "\u001b[0;31merror\u001b[0m: OpenCV(4.6.0) /io/opencv/modules/imgcodecs/src/loadsave.cpp:801: error: (-215:Assertion failed) !_img.empty() in function 'imwrite'\n"
     ]
    }
   ],
   "source": [
    "import os\n",
    "import cv2\n",
    "import numpy as np\n",
    "import shutil\n",
    "np.random.seed(5824)\n",
    "\n",
    "paths = {'real': ('../extracted_faces_from_COCO/', 'FID_real_face/'), \n",
    "         'generated': ('cherry_picked_generated_faces', 'FID_generated_face/')}\n",
    "\n",
    "# res = {}\n",
    "num_imgs = 5000\n",
    "for k in range(10):\n",
    "    print(k)\n",
    "    for f in ['real', 'generated']: #range(2):\n",
    "        img_path, save_path = paths[f]\n",
    "        files = os.listdir(img_path)\n",
    "\n",
    "        np.random.shuffle(files)\n",
    "\n",
    "        if os.path.exists(save_path):\n",
    "            shutil.rmtree(save_path)    \n",
    "        os.mkdir(save_path)\n",
    "\n",
    "        print(save_path)\n",
    "\n",
    "        count = 0\n",
    "        while count < num_imgs:\n",
    "            for f_name in files:\n",
    "                image = cv2.imread(os.path.join(img_path,f_name))\n",
    "                cv2.imwrite(os.path.join(save_path, 'face_img_{}.jpg'.format(count)), image)\n",
    "\n",
    "                count += 1\n",
    "                #print(count)\n",
    "                if count >= num_imgs: break          \n",
    "\n",
    "    !python -m pytorch_fid FID_real_face/ FID_generated_face/ --device cuda:0"
   ]
  },
  {
   "cell_type": "code",
   "execution_count": null,
   "id": "27a65687",
   "metadata": {},
   "outputs": [],
   "source": [
    "import os\n",
    "import cv2\n",
    "import numpy as np\n",
    "import shutil\n",
    "np.random.seed(5824)\n",
    "\n",
    "\n",
    "\n",
    "\n",
    "paths = {'real': ('GFW/real_faces', 'FID_real_face/'), \n",
    "         'generated': ('GFW/DALLE2', 'FID_DALLE2/')}\n",
    "\n",
    "# res = {}\n",
    "num_imgs = 5000\n",
    "for k in range(10):\n",
    "    print(k)\n",
    "    for f in ['real', 'generated']: #range(2):\n",
    "        img_path, save_path = paths[f]\n",
    "        files = os.listdir(img_path)\n",
    "\n",
    "        np.random.shuffle(files)\n",
    "\n",
    "        if os.path.exists(save_path):\n",
    "            shutil.rmtree(save_path)    \n",
    "        os.mkdir(save_path)\n",
    "\n",
    "        print(save_path)\n",
    "\n",
    "        count = 0\n",
    "        while count < num_imgs:\n",
    "            for f_name in files:\n",
    "                image = cv2.imread(os.path.join(img_path,f_name))\n",
    "                try:\n",
    "                    cv2.imwrite(os.path.join(save_path, 'face_img_{}.jpg'.format(count)), image)\n",
    "\n",
    "                    count += 1\n",
    "                    #print(count)\n",
    "                    if count >= num_imgs: break\n",
    "                except:\n",
    "                    None\n",
    "\n",
    "    !python -m pytorch_fid FID_real_face/ FID_DALLE2/ --device cuda:0"
   ]
  },
  {
   "cell_type": "code",
   "execution_count": null,
   "id": "ed58c956",
   "metadata": {},
   "outputs": [],
   "source": [
    "import os\n",
    "import cv2\n",
    "import numpy as np\n",
    "import shutil\n",
    "np.random.seed(5824)\n",
    "\n",
    "paths = {'real': ('../extracted_faces_from_COCO/', 'FID_real_face/'), \n",
    "         'generated': ('extracted_generated_faces_version2/', 'FID_generated_face_version2/')}\n",
    "\n",
    "# res = {}\n",
    "num_imgs = 5000\n",
    "for k in range(10):\n",
    "    print(k)\n",
    "    for f in ['real', 'generated']: #range(2):\n",
    "        img_path, save_path = paths[f]\n",
    "        files = os.listdir(img_path)\n",
    "\n",
    "        np.random.shuffle(files)\n",
    "\n",
    "        if os.path.exists(save_path):\n",
    "            shutil.rmtree(save_path)    \n",
    "        os.mkdir(save_path)\n",
    "\n",
    "        print(save_path)\n",
    "\n",
    "        count = 0\n",
    "        while count < num_imgs:\n",
    "            for f_name in files:\n",
    "                image = cv2.imread(os.path.join(img_path,f_name))\n",
    "                cv2.imwrite(os.path.join(save_path, 'face_img_{}.jpg'.format(count)), image)\n",
    "\n",
    "                count += 1\n",
    "                #print(count)\n",
    "                if count >= num_imgs: break          \n",
    "\n",
    "    !python -m pytorch_fid FID_real_face/ FID_generated_face_version2/ --device cuda:0"
   ]
  },
  {
   "cell_type": "markdown",
   "id": "ca0df2cd",
   "metadata": {},
   "source": [
    "## 5. Generated eyes images from ERNIE-ViLG FID score"
   ]
  },
  {
   "cell_type": "code",
   "execution_count": null,
   "id": "5ae58a18",
   "metadata": {},
   "outputs": [],
   "source": [
    "import os\n",
    "import cv2\n",
    "import numpy as np\n",
    "import shutil\n",
    "np.random.seed(5824)\n",
    "\n",
    "paths = {'real': ('../extracted_eyes/', 'FID_real_eyes/'), \n",
    "         'generated': ('extracted_generated_eyes/', 'FID_generated_eyes/')}\n",
    "\n",
    "# res = {}\n",
    "num_imgs = 1000\n",
    "for k in range(10):\n",
    "    print(k)\n",
    "    for f in ['real', 'generated']: #range(2):\n",
    "        img_path, save_path = paths[f]\n",
    "        files = os.listdir(img_path)\n",
    "\n",
    "        np.random.shuffle(files)\n",
    "\n",
    "        if os.path.exists(save_path):\n",
    "            shutil.rmtree(save_path)    \n",
    "        os.mkdir(save_path)\n",
    "\n",
    "        print(save_path)\n",
    "\n",
    "        count = 0\n",
    "        while count < num_imgs:\n",
    "            for f_name in files:\n",
    "                image = cv2.imread(os.path.join(img_path,f_name))\n",
    "                cv2.imwrite(os.path.join(save_path, 'eyes_img_{}.jpg'.format(count)), image)\n",
    "                count+=1\n",
    "                if count >= num_imgs: break          \n",
    "\n",
    "    !python -m pytorch_fid FID_real_eyes/ FID_generated_eyes/ --device cuda:0"
   ]
  },
  {
   "cell_type": "markdown",
   "id": "34db1cba",
   "metadata": {},
   "source": [
    "## 6. Generated mouth images from ERNIE-ViLG FID score"
   ]
  },
  {
   "cell_type": "code",
   "execution_count": null,
   "id": "b1257a51",
   "metadata": {},
   "outputs": [],
   "source": [
    "import os\n",
    "import cv2\n",
    "import numpy as np\n",
    "import shutil\n",
    "np.random.seed(5824)\n",
    "\n",
    "paths = {'real': ('../extracted_mouth/', 'FID_real_mouth/'), \n",
    "         'generated': ('extracted_generated_mouth/', 'FID_generated_mouth/')}\n",
    "\n",
    "# res = {}\n",
    "num_imgs = 1000\n",
    "for k in range(10):\n",
    "    print(k)\n",
    "    for f in ['real', 'generated']: #range(2):\n",
    "        img_path, save_path = paths[f]\n",
    "        files = os.listdir(img_path)\n",
    "\n",
    "        np.random.shuffle(files)\n",
    "\n",
    "        if os.path.exists(save_path):\n",
    "            shutil.rmtree(save_path)    \n",
    "        os.mkdir(save_path)\n",
    "\n",
    "        print(save_path)\n",
    "\n",
    "        count = 0\n",
    "        while count < num_imgs:\n",
    "            for f_name in files:\n",
    "                image = cv2.imread(os.path.join(img_path,f_name))\n",
    "                cv2.imwrite(os.path.join(save_path, 'mouth_img_{}.jpg'.format(count)), image)\n",
    "                count+=1\n",
    "                if count >= num_imgs: break          \n",
    "\n",
    "    !python -m pytorch_fid FID_real_mouth/ FID_generated_mouth/ --device cuda:0"
   ]
  },
  {
   "cell_type": "code",
   "execution_count": null,
   "id": "3573d192",
   "metadata": {},
   "outputs": [],
   "source": []
  }
 ],
 "metadata": {
  "kernelspec": {
   "display_name": "Python 3 (ipykernel)",
   "language": "python",
   "name": "python3"
  },
  "language_info": {
   "codemirror_mode": {
    "name": "ipython",
    "version": 3
   },
   "file_extension": ".py",
   "mimetype": "text/x-python",
   "name": "python",
   "nbconvert_exporter": "python",
   "pygments_lexer": "ipython3",
   "version": "3.8.13"
  }
 },
 "nbformat": 4,
 "nbformat_minor": 5
}
