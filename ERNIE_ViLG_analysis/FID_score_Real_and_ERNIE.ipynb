{
 "cells": [
  {
   "cell_type": "markdown",
   "id": "c2de3c14",
   "metadata": {},
   "source": [
    "# Calculating FID Scores"
   ]
  },
  {
   "cell_type": "markdown",
   "id": "f9032294",
   "metadata": {},
   "source": [
    "## 1. Real face image FID score "
   ]
  },
  {
   "cell_type": "code",
   "execution_count": 7,
   "id": "1a088442",
   "metadata": {},
   "outputs": [],
   "source": [
    "#!pip install pytorch-fid"
   ]
  },
  {
   "cell_type": "code",
   "execution_count": 69,
   "id": "188d4aca",
   "metadata": {},
   "outputs": [
    {
     "name": "stdout",
     "output_type": "stream",
     "text": [
      "/home/xiaona/anaconda3/envs/paddle_env/lib/python3.8/site-packages/torchvision/models/_utils.py:208: UserWarning: The parameter 'pretrained' is deprecated since 0.13 and may be removed in the future, please use 'weights' instead.\n",
      "  warnings.warn(\n",
      "/home/xiaona/anaconda3/envs/paddle_env/lib/python3.8/site-packages/torchvision/models/_utils.py:223: UserWarning: Arguments other than a weight enum or `None` for 'weights' are deprecated since 0.13 and may be removed in the future. The current behavior is equivalent to passing `weights=None`.\n",
      "  warnings.warn(msg)\n",
      "100%|█████████████████████████████████████████| 100/100 [00:17<00:00,  5.74it/s]\n",
      "100%|█████████████████████████████████████████| 100/100 [00:15<00:00,  6.60it/s]\n",
      "FID:  6.493600945615526\n",
      "/home/xiaona/anaconda3/envs/paddle_env/lib/python3.8/site-packages/torchvision/models/_utils.py:208: UserWarning: The parameter 'pretrained' is deprecated since 0.13 and may be removed in the future, please use 'weights' instead.\n",
      "  warnings.warn(\n",
      "/home/xiaona/anaconda3/envs/paddle_env/lib/python3.8/site-packages/torchvision/models/_utils.py:223: UserWarning: Arguments other than a weight enum or `None` for 'weights' are deprecated since 0.13 and may be removed in the future. The current behavior is equivalent to passing `weights=None`.\n",
      "  warnings.warn(msg)\n",
      "100%|█████████████████████████████████████████| 100/100 [00:17<00:00,  5.82it/s]\n",
      "100%|█████████████████████████████████████████| 100/100 [00:15<00:00,  6.66it/s]\n",
      "FID:  6.5009890193924775\n",
      "/home/xiaona/anaconda3/envs/paddle_env/lib/python3.8/site-packages/torchvision/models/_utils.py:208: UserWarning: The parameter 'pretrained' is deprecated since 0.13 and may be removed in the future, please use 'weights' instead.\n",
      "  warnings.warn(\n",
      "/home/xiaona/anaconda3/envs/paddle_env/lib/python3.8/site-packages/torchvision/models/_utils.py:223: UserWarning: Arguments other than a weight enum or `None` for 'weights' are deprecated since 0.13 and may be removed in the future. The current behavior is equivalent to passing `weights=None`.\n",
      "  warnings.warn(msg)\n",
      "100%|█████████████████████████████████████████| 100/100 [00:16<00:00,  5.97it/s]\n",
      "100%|█████████████████████████████████████████| 100/100 [00:15<00:00,  6.61it/s]\n",
      "FID:  6.588950195475377\n",
      "/home/xiaona/anaconda3/envs/paddle_env/lib/python3.8/site-packages/torchvision/models/_utils.py:208: UserWarning: The parameter 'pretrained' is deprecated since 0.13 and may be removed in the future, please use 'weights' instead.\n",
      "  warnings.warn(\n",
      "/home/xiaona/anaconda3/envs/paddle_env/lib/python3.8/site-packages/torchvision/models/_utils.py:223: UserWarning: Arguments other than a weight enum or `None` for 'weights' are deprecated since 0.13 and may be removed in the future. The current behavior is equivalent to passing `weights=None`.\n",
      "  warnings.warn(msg)\n",
      "100%|█████████████████████████████████████████| 100/100 [00:17<00:00,  5.84it/s]\n",
      "100%|█████████████████████████████████████████| 100/100 [00:15<00:00,  6.66it/s]\n",
      "FID:  6.476330901549545\n",
      "/home/xiaona/anaconda3/envs/paddle_env/lib/python3.8/site-packages/torchvision/models/_utils.py:208: UserWarning: The parameter 'pretrained' is deprecated since 0.13 and may be removed in the future, please use 'weights' instead.\n",
      "  warnings.warn(\n",
      "/home/xiaona/anaconda3/envs/paddle_env/lib/python3.8/site-packages/torchvision/models/_utils.py:223: UserWarning: Arguments other than a weight enum or `None` for 'weights' are deprecated since 0.13 and may be removed in the future. The current behavior is equivalent to passing `weights=None`.\n",
      "  warnings.warn(msg)\n",
      "100%|█████████████████████████████████████████| 100/100 [00:17<00:00,  5.83it/s]\n",
      "100%|█████████████████████████████████████████| 100/100 [00:15<00:00,  6.62it/s]\n",
      "FID:  6.545912522087178\n",
      "/home/xiaona/anaconda3/envs/paddle_env/lib/python3.8/site-packages/torchvision/models/_utils.py:208: UserWarning: The parameter 'pretrained' is deprecated since 0.13 and may be removed in the future, please use 'weights' instead.\n",
      "  warnings.warn(\n",
      "/home/xiaona/anaconda3/envs/paddle_env/lib/python3.8/site-packages/torchvision/models/_utils.py:223: UserWarning: Arguments other than a weight enum or `None` for 'weights' are deprecated since 0.13 and may be removed in the future. The current behavior is equivalent to passing `weights=None`.\n",
      "  warnings.warn(msg)\n",
      "100%|█████████████████████████████████████████| 100/100 [00:17<00:00,  5.81it/s]\n",
      "100%|█████████████████████████████████████████| 100/100 [00:15<00:00,  6.65it/s]\n",
      "FID:  6.530330085531034\n",
      "/home/xiaona/anaconda3/envs/paddle_env/lib/python3.8/site-packages/torchvision/models/_utils.py:208: UserWarning: The parameter 'pretrained' is deprecated since 0.13 and may be removed in the future, please use 'weights' instead.\n",
      "  warnings.warn(\n",
      "/home/xiaona/anaconda3/envs/paddle_env/lib/python3.8/site-packages/torchvision/models/_utils.py:223: UserWarning: Arguments other than a weight enum or `None` for 'weights' are deprecated since 0.13 and may be removed in the future. The current behavior is equivalent to passing `weights=None`.\n",
      "  warnings.warn(msg)\n",
      "100%|█████████████████████████████████████████| 100/100 [00:16<00:00,  6.03it/s]\n",
      "100%|█████████████████████████████████████████| 100/100 [00:15<00:00,  6.60it/s]\n",
      "FID:  6.425382862180584\n",
      "/home/xiaona/anaconda3/envs/paddle_env/lib/python3.8/site-packages/torchvision/models/_utils.py:208: UserWarning: The parameter 'pretrained' is deprecated since 0.13 and may be removed in the future, please use 'weights' instead.\n",
      "  warnings.warn(\n",
      "/home/xiaona/anaconda3/envs/paddle_env/lib/python3.8/site-packages/torchvision/models/_utils.py:223: UserWarning: Arguments other than a weight enum or `None` for 'weights' are deprecated since 0.13 and may be removed in the future. The current behavior is equivalent to passing `weights=None`.\n",
      "  warnings.warn(msg)\n",
      "100%|█████████████████████████████████████████| 100/100 [00:17<00:00,  5.82it/s]\n",
      "100%|█████████████████████████████████████████| 100/100 [00:14<00:00,  6.69it/s]\n",
      "FID:  6.484106695789819\n",
      "/home/xiaona/anaconda3/envs/paddle_env/lib/python3.8/site-packages/torchvision/models/_utils.py:208: UserWarning: The parameter 'pretrained' is deprecated since 0.13 and may be removed in the future, please use 'weights' instead.\n",
      "  warnings.warn(\n",
      "/home/xiaona/anaconda3/envs/paddle_env/lib/python3.8/site-packages/torchvision/models/_utils.py:223: UserWarning: Arguments other than a weight enum or `None` for 'weights' are deprecated since 0.13 and may be removed in the future. The current behavior is equivalent to passing `weights=None`.\n",
      "  warnings.warn(msg)\n",
      "100%|█████████████████████████████████████████| 100/100 [00:16<00:00,  5.90it/s]\n",
      "100%|█████████████████████████████████████████| 100/100 [00:15<00:00,  6.63it/s]\n",
      "FID:  6.3621563399289585\n",
      "/home/xiaona/anaconda3/envs/paddle_env/lib/python3.8/site-packages/torchvision/models/_utils.py:208: UserWarning: The parameter 'pretrained' is deprecated since 0.13 and may be removed in the future, please use 'weights' instead.\n",
      "  warnings.warn(\n",
      "/home/xiaona/anaconda3/envs/paddle_env/lib/python3.8/site-packages/torchvision/models/_utils.py:223: UserWarning: Arguments other than a weight enum or `None` for 'weights' are deprecated since 0.13 and may be removed in the future. The current behavior is equivalent to passing `weights=None`.\n",
      "  warnings.warn(msg)\n",
      "100%|█████████████████████████████████████████| 100/100 [00:17<00:00,  5.81it/s]\n",
      "100%|█████████████████████████████████████████| 100/100 [00:14<00:00,  6.69it/s]\n",
      "FID:  6.417017446445584\n"
     ]
    }
   ],
   "source": [
    "import os\n",
    "import cv2\n",
    "import numpy as np\n",
    "import shutil\n",
    "num_imgs = 5000\n",
    "for k in range(10):\n",
    "    # split real faces into two folders \n",
    "    files = os.listdir('extracted_faces_from_COCO/')\n",
    "    np.random.shuffle(files)\n",
    "\n",
    "    if os.path.exists('extracted_faces_from_COCO_1/'):\n",
    "        shutil.rmtree('extracted_faces_from_COCO_1/')  \n",
    "    os.mkdir('extracted_faces_from_COCO_1/')    \n",
    "\n",
    "\n",
    "    if os.path.exists('extracted_faces_from_COCO_2/'):\n",
    "        shutil.rmtree('extracted_faces_from_COCO_2/')  \n",
    "    os.mkdir('extracted_faces_from_COCO_2/')    \n",
    "\n",
    "\n",
    "    for i, f in enumerate(files[:10000]):\n",
    "        if i%2:\n",
    "            shutil.copy(f'extracted_faces_from_COCO/{f}',f'extracted_faces_from_COCO_1/{f}')\n",
    "        else:\n",
    "            shutil.copy(f'extracted_faces_from_COCO/{f}',f'extracted_faces_from_COCO_2/{f}')    \n",
    "\n",
    "\n",
    "    !python -m pytorch_fid extracted_faces_from_COCO_1/ extracted_faces_from_COCO_2/ --device cuda:0"
   ]
  },
  {
   "cell_type": "code",
   "execution_count": null,
   "id": "a4143902",
   "metadata": {},
   "outputs": [],
   "source": []
  },
  {
   "cell_type": "markdown",
   "id": "069e8ecc",
   "metadata": {},
   "source": [
    "## 2. Generated motion image FID score"
   ]
  },
  {
   "cell_type": "code",
   "execution_count": null,
   "id": "039ce33b",
   "metadata": {},
   "outputs": [],
   "source": [
    "import os\n",
    "import cv2\n",
    "import numpy as np\n",
    "import shutil\n",
    "\n",
    "paths = {'real': ('/content/real_faces/', '/content/drive/MyDrive/FineGrainedEval/tmp_real/'), \n",
    "         'generated': ('/content/generated_data/faces_generated/', '/content/drive/MyDrive/FineGrainedEval/tmp_generated/')}\n",
    "\n",
    "# res = {}\n",
    "num_imgs = 5000\n",
    "for k in range(10):\n",
    "    print(k)\n",
    "    for f in ['real', 'generated']: #range(2):\n",
    "        img_path, save_path = paths[f]\n",
    "        files = os.listdir(img_path)\n",
    "\n",
    "        np.random.shuffle(files)\n",
    "\n",
    "        if os.path.exists(save_path):\n",
    "            shutil.rmtree(save_path)    \n",
    "        os.mkdir(save_path)\n",
    "\n",
    "        print(save_path)\n",
    "\n",
    "        count = 0\n",
    "        while count < num_imgs:    \n",
    "            for f_name in files:\n",
    "            image = cv2.imread(os.path.join(img_path,f_name))\n",
    "            cv2.imwrite(os.path.join(save_path, f_name), image)\n",
    "\n",
    "            count += 1\n",
    "            if count >= num_imgs: break          \n",
    "\n",
    "    !python -m pytorch_fid /content/drive/MyDrive/FineGrainedEval/tmp_real/ /content/drive/MyDrive/FineGrainedEval/tmp_generated/ --device cuda:0"
   ]
  }
 ],
 "metadata": {
  "kernelspec": {
   "display_name": "Python 3 (ipykernel)",
   "language": "python",
   "name": "python3"
  },
  "language_info": {
   "codemirror_mode": {
    "name": "ipython",
    "version": 3
   },
   "file_extension": ".py",
   "mimetype": "text/x-python",
   "name": "python",
   "nbconvert_exporter": "python",
   "pygments_lexer": "ipython3",
   "version": "3.8.15"
  }
 },
 "nbformat": 4,
 "nbformat_minor": 5
}
