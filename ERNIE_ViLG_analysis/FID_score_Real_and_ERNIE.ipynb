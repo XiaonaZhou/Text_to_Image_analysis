{
 "cells": [
  {
   "cell_type": "markdown",
   "id": "c2de3c14",
   "metadata": {},
   "source": [
    "# Calculating FID Scores"
   ]
  },
  {
   "cell_type": "markdown",
   "id": "f9032294",
   "metadata": {},
   "source": [
    "## 1. Real face image FID score "
   ]
  },
  {
   "cell_type": "code",
   "execution_count": null,
   "id": "d8d05827",
   "metadata": {},
   "outputs": [],
   "source": [
    "#!pip install pytorch-fid"
   ]
  },
  {
   "cell_type": "code",
   "execution_count": null,
   "id": "188d4aca",
   "metadata": {},
   "outputs": [],
   "source": [
    "import os\n",
    "import cv2\n",
    "import numpy as np\n",
    "import shutil\n",
    "num_imgs = 5000\n",
    "for k in range(10):\n",
    "    # split real faces into two folders \n",
    "    files = os.listdir('../extracted_faces_from_COCO/')\n",
    "    np.random.shuffle(files)\n",
    "\n",
    "    if os.path.exists('extracted_faces_from_COCO_1/'):\n",
    "        shutil.rmtree('extracted_faces_from_COCO_1/')  \n",
    "    os.mkdir('extracted_faces_from_COCO_1/')    \n",
    "\n",
    "\n",
    "    if os.path.exists('extracted_faces_from_COCO_2/'):\n",
    "        shutil.rmtree('extracted_faces_from_COCO_2/')  \n",
    "    os.mkdir('extracted_faces_from_COCO_2/')    \n",
    "\n",
    "\n",
    "    for i, f in enumerate(files[:10000]):\n",
    "        if i%2:\n",
    "            shutil.copy(f'../extracted_faces_from_COCO/{f}',f'extracted_faces_from_COCO_1/{f}')\n",
    "        else:\n",
    "            shutil.copy(f'../extracted_faces_from_COCO/{f}',f'extracted_faces_from_COCO_2/{f}')    \n",
    "\n",
    "\n",
    "    !python -m pytorch_fid extracted_faces_from_COCO_1/ extracted_faces_from_COCO_2/ --device cuda:0"
   ]
  },
  {
   "cell_type": "markdown",
   "id": "66a7e108",
   "metadata": {},
   "source": [
    "## 2. Real eyes image FID score"
   ]
  },
  {
   "cell_type": "code",
   "execution_count": null,
   "id": "50b6d4af",
   "metadata": {},
   "outputs": [],
   "source": [
    "import os\n",
    "files = os.listdir('../extracted_eyes/')"
   ]
  },
  {
   "cell_type": "code",
   "execution_count": null,
   "id": "d486507b",
   "metadata": {},
   "outputs": [],
   "source": [
    "len(files)"
   ]
  },
  {
   "cell_type": "code",
   "execution_count": null,
   "id": "fb6459f3",
   "metadata": {},
   "outputs": [],
   "source": [
    "import os\n",
    "import cv2\n",
    "import numpy as np\n",
    "import shutil\n",
    "num_imgs = 1000\n",
    "for k in range(10):\n",
    "    # split real faces into two folders \n",
    "    files = os.listdir('../extracted_eyes/')\n",
    "    np.random.shuffle(files)\n",
    "\n",
    "    if os.path.exists('extracted_eyes_from_COCO_1/'):\n",
    "        shutil.rmtree('extracted_eyes_from_COCO_1/')  \n",
    "    os.mkdir('extracted_eyes_from_COCO_1/')    \n",
    "\n",
    "\n",
    "    if os.path.exists('extracted_eyes_from_COCO_2/'):\n",
    "        shutil.rmtree('extracted_eyes_from_COCO_2/')  \n",
    "    os.mkdir('extracted_eyes_from_COCO_2/')    \n",
    "\n",
    "\n",
    "    for i, f in enumerate(files[:1000]):\n",
    "        if i%2:\n",
    "            shutil.copy(f'../extracted_eyes/{f}',f'extracted_eyes_from_COCO_1/{f}')\n",
    "        else:\n",
    "            shutil.copy(f'../extracted_eyes/{f}',f'extracted_eyes_from_COCO_2/{f}')    \n",
    "\n",
    "\n",
    "    !python -m pytorch_fid extracted_eyes_from_COCO_1/ extracted_eyes_from_COCO_2/ --device cuda:0"
   ]
  },
  {
   "cell_type": "markdown",
   "id": "069e8ecc",
   "metadata": {},
   "source": [
    "## 2. Generated face images from ERNIE-ViLG FID score"
   ]
  },
  {
   "cell_type": "code",
   "execution_count": null,
   "id": "039ce33b",
   "metadata": {},
   "outputs": [],
   "source": [
    "import os\n",
    "import cv2\n",
    "import numpy as np\n",
    "import shutil\n",
    "\n",
    "paths = {'real': ('extracted_faces_from_COCO/', 'FID_real_face/'), \n",
    "         'generated': ('extracted_generated_faces/', 'FID_generated_face/')}\n",
    "\n",
    "# res = {}\n",
    "num_imgs = 5000\n",
    "for k in range(10):\n",
    "    print(k)\n",
    "    for f in ['real', 'generated']: #range(2):\n",
    "        img_path, save_path = paths[f]\n",
    "        files = os.listdir(img_path)\n",
    "\n",
    "        np.random.shuffle(files)\n",
    "\n",
    "        if os.path.exists(save_path):\n",
    "            shutil.rmtree(save_path)    \n",
    "        os.mkdir(save_path)\n",
    "\n",
    "        print(save_path)\n",
    "\n",
    "        count = 0\n",
    "        while count < num_imgs:\n",
    "            for f_name in files:\n",
    "                image = cv2.imread(os.path.join(img_path,f_name))\n",
    "                cv2.imwrite(os.path.join(save_path, f_name), image)\n",
    "\n",
    "                count += 1\n",
    "                if count >= num_imgs: break          \n",
    "\n",
    "    !python -m pytorch_fid FID_real_face/ FID_generated_face/ --device cuda:0"
   ]
  },
  {
   "cell_type": "markdown",
   "id": "ca0df2cd",
   "metadata": {},
   "source": []
  },
  {
   "cell_type": "code",
   "execution_count": null,
   "id": "5ae58a18",
   "metadata": {},
   "outputs": [],
   "source": []
  }
 ],
 "metadata": {
  "kernelspec": {
   "display_name": "Python 3 (ipykernel)",
   "language": "python",
   "name": "python3"
  },
  "language_info": {
   "codemirror_mode": {
    "name": "ipython",
    "version": 3
   },
   "file_extension": ".py",
   "mimetype": "text/x-python",
   "name": "python",
   "nbconvert_exporter": "python",
   "pygments_lexer": "ipython3",
   "version": "3.8.13"
  }
 },
 "nbformat": 4,
 "nbformat_minor": 5
}
