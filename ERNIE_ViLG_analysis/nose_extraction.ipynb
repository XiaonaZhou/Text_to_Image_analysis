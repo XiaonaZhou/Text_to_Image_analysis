{
 "cells": [
  {
   "cell_type": "code",
   "execution_count": null,
   "id": "fa988b34",
   "metadata": {},
   "outputs": [],
   "source": [
    "from keras.models import load_model\n",
    "!pip install mtcnn\n",
    "# confirm mtcnn was installed correctly\n",
    "import mtcnn\n",
    "# print version\n",
    "print(mtcnn.__version__)\n",
    "\n",
    "import numpy as np\n",
    "from mtcnn.mtcnn import MTCNN\n",
    "from numpy import asarray\n",
    "#!pip install pycocotools\n",
    "import io\n",
    "import os\n",
    "from pycocotools.coco import COCO\n",
    "from PIL import Image\n",
    "import matplotlib.pyplot as plt\n",
    "\n",
    "\n",
    "# Simple python package to shut up Tensorflow warnings and logs.\n",
    "!pip install silence_tensorflow\n",
    "import silence_tensorflow.auto"
   ]
  },
  {
   "cell_type": "code",
   "execution_count": null,
   "id": "ffc57878",
   "metadata": {},
   "outputs": [],
   "source": [
    "#set up folders for extracted faces and the corresponding captions \n",
    "# initialize COCO API for instance annotations\n",
    "import os\n",
    "dataDir = './'\n",
    "\n",
    "image_folder = \"extracted_noses\"\n",
    "\n",
    "savedirimage = dataDir +  image_folder + \"/\"\n",
    "\n",
    "\n",
    "if not os.path.exists(savedirimage):\n",
    "\tos.makedirs(savedirimage)"
   ]
  },
  {
   "cell_type": "code",
   "execution_count": null,
   "id": "8f245afc",
   "metadata": {},
   "outputs": [],
   "source": [
    "# extract eyes from extracted_face_image\n",
    "def extract_nose_from_extratced_face(filename, index, required_size = (200,200)):\n",
    "    # load image from file\n",
    "    image = Image.open(filename)\n",
    "    # convert to RGB, if needed\n",
    "    image = image.convert('RGB')\n",
    "    # convert to array\n",
    "    pixels = np.asarray(image)\n",
    "    # create the detector, using default weights\n",
    "    detector = MTCNN()\n",
    "    # detect faces in the image\n",
    "    results = detector.detect_faces(pixels)\n",
    "    # extract the bounding box from the first face\n",
    "    try:\n",
    "        if len(results)>=1:\n",
    "            #print(results[0])\n",
    "            xnose= results[0]['keypoints']['nose'][0]-35\n",
    "            ynose = results[0]['keypoints']['nose'][1]+15\n",
    "            width = results[0]['keypoints']['nose'][0] +35\n",
    "            height = int((results[0]['keypoints']['left_eye'][1]+results[0]['keypoints']['right_eye'][1])/2)+10\n",
    "            nose = pixels[height:ynose, xnose:width]\n",
    "            # resize pixels to the model size\n",
    "            image = Image.fromarray(nose)\n",
    "            image = image.resize(required_size)\n",
    "            nose_array = np.asarray(image)\n",
    "            plt.imshow(nose_array)\n",
    "            plt.imsave(os.path.join(savedirimage, 'nose_img_{}.jpg'.format(index)),nose_array)\n",
    "            return True\n",
    "    except:\n",
    "        None\n",
    "    return False"
   ]
  },
  {
   "cell_type": "code",
   "execution_count": null,
   "id": "ef100f3a",
   "metadata": {},
   "outputs": [],
   "source": [
    "files = os.listdir('extracted_faces_from_COCO/')"
   ]
  },
  {
   "cell_type": "code",
   "execution_count": null,
   "id": "24c2a7ff",
   "metadata": {},
   "outputs": [],
   "source": [
    "index =0\n",
    "for file in files[0:50]:\n",
    "    if extract_nose_from_extratced_face(os.path.join('./extracted_faces_from_COCO/',file), index = index):\n",
    "        print(index)\n",
    "        index+=1"
   ]
  },
  {
   "cell_type": "code",
   "execution_count": null,
   "id": "54a96fb5",
   "metadata": {},
   "outputs": [],
   "source": []
  }
 ],
 "metadata": {
  "kernelspec": {
   "display_name": "Python 3 (ipykernel)",
   "language": "python",
   "name": "python3"
  },
  "language_info": {
   "codemirror_mode": {
    "name": "ipython",
    "version": 3
   },
   "file_extension": ".py",
   "mimetype": "text/x-python",
   "name": "python",
   "nbconvert_exporter": "python",
   "pygments_lexer": "ipython3",
   "version": "3.8.13"
  }
 },
 "nbformat": 4,
 "nbformat_minor": 5
}
