{
 "cells": [
  {
   "cell_type": "code",
   "execution_count": null,
   "id": "188d4aca",
   "metadata": {},
   "outputs": [],
   "source": [
    "num_imgs = 5000\n",
    "for k in range(10):\n",
    "\n",
    "  # split real faces into two folders \n",
    "  files = os.listdir('/content/motion_images/')\n",
    "  np.random.shuffle(files)\n",
    "\n",
    "  if os.path.exists('/content/faces1'):\n",
    "    shutil.rmtree('/content/faces1')  \n",
    "  os.mkdir('/content/faces1')    \n",
    "\n",
    "\n",
    "  if os.path.exists('/content/faces2'):\n",
    "    shutil.rmtree('/content/faces2')  \n",
    "  os.mkdir('/content/faces2')    \n",
    "\n",
    "\n",
    "  for i, f in enumerate(files[:10000]):\n",
    "    if i%2:\n",
    "      shutil.copy(f'/content/real_faces/{f}',f'/content/faces1/{f}')\n",
    "    else:\n",
    "      shutil.copy(f'/content/real_faces/{f}',f'/content/faces2/{f}')    \n",
    "\n",
    "\n",
    "  !python -m pytorch_fid /content/faces1/ /content/faces2/ --device cuda:0"
   ]
  }
 ],
 "metadata": {
  "kernelspec": {
   "display_name": "Python 3 (ipykernel)",
   "language": "python",
   "name": "python3"
  },
  "language_info": {
   "codemirror_mode": {
    "name": "ipython",
    "version": 3
   },
   "file_extension": ".py",
   "mimetype": "text/x-python",
   "name": "python",
   "nbconvert_exporter": "python",
   "pygments_lexer": "ipython3",
   "version": "3.8.13"
  }
 },
 "nbformat": 4,
 "nbformat_minor": 5
}
