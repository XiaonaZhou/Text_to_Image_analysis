{
 "cells": [
  {
   "cell_type": "markdown",
   "id": "753888e6",
   "metadata": {},
   "source": [
    "## Make plot for FID score on category face"
   ]
  },
  {
   "cell_type": "code",
   "execution_count": null,
   "id": "c61da34c",
   "metadata": {},
   "outputs": [],
   "source": [
    "import numpy as np\n",
    "import matplotlib.pyplot as plt"
   ]
  },
  {
   "cell_type": "code",
   "execution_count": null,
   "id": "6671fd13",
   "metadata": {},
   "outputs": [],
   "source": [
    "# Enter FID score\n",
    "ERNIE_FID = np.array([])\n",
    "Stable_Diff_FID = np.array([])\n",
    "DALL_E_2_FID = np.array([])\n",
    "CogView2_FID = np.array([])\n",
    "LAFTTE_FID = np.array([])"
   ]
  },
  {
   "cell_type": "code",
   "execution_count": null,
   "id": "dc59c446",
   "metadata": {},
   "outputs": [],
   "source": [
    "# Calculate the average\n",
    "ERNIE_mean = np.mean(ERNIE_FID)\n",
    "Stable_Diff_mean = np.mean(Stable_Diff_FID)\n",
    "DALL_E_2_mean = np.mean(DALL_E_2_FID)\n",
    "CogView2_mean = np.mean(CogView2_FID)\n",
    "LAFTTE_mean = np.mean(LAFTTE_FID)"
   ]
  },
  {
   "cell_type": "code",
   "execution_count": null,
   "id": "d0881581",
   "metadata": {},
   "outputs": [],
   "source": [
    "# Calculate the standard deviation\n",
    "ERNIE_std = np.std(ERNIE_FID)\n",
    "Stable_Diff_std = np.std(Stable_Diff_FID)\n",
    "DALL_E_2_std = np.std(DALL_E_2_FID)\n",
    "CogView2_std = np.std(CogView2_FID)\n",
    "LAFTTE_std = np.std(LAFTTE_FID)"
   ]
  },
  {
   "cell_type": "code",
   "execution_count": null,
   "id": "aa6319e6",
   "metadata": {},
   "outputs": [],
   "source": [
    "# Create lists for the plot\n",
    "model_names = ['ERNIE_ViLG', 'Stable Diffusion', 'DALL-E 2', 'Cogview2', 'LAFTTE']\n",
    "x_pos = np.arange(len(model_names))\n",
    "FID_means = [ERNIE_mean, Stable_Diff_mean, DALL_E_2_mean, CogView2_mean, LAFTTE_mean]\n",
    "error = [ERNIE_std, Stable_Diff_std, DALL_E_2_std, CogView2_std, LAFTTE_std]"
   ]
  },
  {
   "cell_type": "code",
   "execution_count": null,
   "id": "a6fa9d93",
   "metadata": {},
   "outputs": [],
   "source": [
    "# Build the plot\n",
    "fig, ax = plt.subplots()\n",
    "ax.bar(x_pos, FID_means, yerr=error, align='center', alpha=0.5, ecolor='black', capsize=10)\n",
    "ax.set_ylabel('FID')\n",
    "ax.set_xticks(x_pos)\n",
    "ax.set_xticklabels(model_names)\n",
    "ax.set_title('5k Images')\n",
    "ax.yaxis.grid(True)\n",
    "\n",
    "# Save the figure and show\n",
    "plt.tight_layout()\n",
    "plt.savefig('FID_on_faces.png')\n",
    "plt.show()"
   ]
  },
  {
   "cell_type": "markdown",
   "id": "0ed1ae8d",
   "metadata": {},
   "source": [
    "## Make plot for FID score on category motion"
   ]
  },
  {
   "cell_type": "code",
   "execution_count": null,
   "id": "d2776f02",
   "metadata": {},
   "outputs": [],
   "source": [
    "# Enter FID score\n",
    "ERNIE_FID = np.array([])\n",
    "Stable_Diff_FID = np.array([])\n",
    "DALL_E_2_FID = np.array([])\n",
    "CogView2_FID = np.array([])\n",
    "LAFTTE_FID = np.array([])"
   ]
  },
  {
   "cell_type": "code",
   "execution_count": null,
   "id": "68bbe850",
   "metadata": {},
   "outputs": [],
   "source": [
    "# Calculate the average\n",
    "ERNIE_mean = np.mean(ERNIE_FID)\n",
    "Stable_Diff_mean = np.mean(Stable_Diff_FID)\n",
    "DALL_E_2_mean = np.mean(DALL_E_2_FID)\n",
    "CogView2_mean = np.mean(CogView2_FID)\n",
    "LAFTTE_mean = np.mean(LAFTTE_FID)"
   ]
  },
  {
   "cell_type": "code",
   "execution_count": null,
   "id": "72b102ab",
   "metadata": {},
   "outputs": [],
   "source": [
    "# Calculate the standard deviation\n",
    "ERNIE_std = np.std(ERNIE_FID)\n",
    "Stable_Diff_std = np.std(Stable_Diff_FID)\n",
    "DALL_E_2_std = np.std(DALL_E_2_FID)\n",
    "CogView2_std = np.std(CogView2_FID)\n",
    "LAFTTE_std = np.std(LAFTTE_FID"
   ]
  },
  {
   "cell_type": "code",
   "execution_count": null,
   "id": "a1a57bc2",
   "metadata": {},
   "outputs": [],
   "source": [
    "# Create lists for the plot\n",
    "model_names = ['ERNIE_ViLG', 'Stable Diffusion', 'DALL-E 2', 'Cogview2', 'LAFTTE']\n",
    "x_pos = np.arange(len(model_names))\n",
    "FID_means = [ERNIE_mean, Stable_Diff_mean, DALL_E_2_mean, CogView2_mean, LAFTTE_mean]\n",
    "error = [ERNIE_std, Stable_Diff_std, DALL_E_2_std, CogView2_std, LAFTTE_std]"
   ]
  },
  {
   "cell_type": "code",
   "execution_count": null,
   "id": "713e4850",
   "metadata": {},
   "outputs": [],
   "source": [
    "# Build the plot\n",
    "fig, ax = plt.subplots()\n",
    "ax.bar(x_pos, FID_means, yerr=error, align='center', alpha=0.5, ecolor='black', capsize=10)\n",
    "ax.set_ylabel('FID')\n",
    "ax.set_xticks(x_pos)\n",
    "ax.set_xticklabels(model_names)\n",
    "ax.set_title('5k Images')\n",
    "ax.yaxis.grid(True)\n",
    "\n",
    "# Save the figure and show\n",
    "plt.tight_layout()\n",
    "plt.savefig('FID_on_motion.png')\n",
    "plt.show()"
   ]
  },
  {
   "cell_type": "code",
   "execution_count": null,
   "id": "d83b6d9b",
   "metadata": {},
   "outputs": [],
   "source": []
  }
 ],
 "metadata": {
  "kernelspec": {
   "display_name": "Python 3 (ipykernel)",
   "language": "python",
   "name": "python3"
  },
  "language_info": {
   "codemirror_mode": {
    "name": "ipython",
    "version": 3
   },
   "file_extension": ".py",
   "mimetype": "text/x-python",
   "name": "python",
   "nbconvert_exporter": "python",
   "pygments_lexer": "ipython3",
   "version": "3.8.13"
  }
 },
 "nbformat": 4,
 "nbformat_minor": 5
}
