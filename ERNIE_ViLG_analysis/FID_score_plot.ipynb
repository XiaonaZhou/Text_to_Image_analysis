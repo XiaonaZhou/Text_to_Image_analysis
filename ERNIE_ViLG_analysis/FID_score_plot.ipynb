{
 "cells": [
  {
   "cell_type": "markdown",
   "id": "753888e6",
   "metadata": {},
   "source": [
    "## Make plot for FID score on category face"
   ]
  },
  {
   "cell_type": "code",
   "execution_count": 1,
   "id": "c61da34c",
   "metadata": {},
   "outputs": [],
   "source": [
    "import numpy as np\n",
    "import matplotlib.pyplot as plt"
   ]
  },
  {
   "cell_type": "code",
   "execution_count": 2,
   "id": "6671fd13",
   "metadata": {},
   "outputs": [],
   "source": [
    "# Enter FID score\n",
    "Real_FID = np.array([6.493600945615526, 6.5009890193924775, 6.588950195475377, \n",
    "                     6.476330901549545, 6.545912522087178, 6.530330085531034, \n",
    "                     6.425382862180584, 6.484106695789819, 6.3621563399289585,\n",
    "                    6.417017446445584])\n",
    "ERNIE_FID = np.array([78.72266788643267, 78.70051664311131, 78.97884161114348,\n",
    "                     79.63861516360646, 79.3012303704179, 79.21160907632412,\n",
    "                     79.06971992069137, 79.70388647940553, 78.97888993569535,\n",
    "                     78.17381344049289])\n",
    "Stable_Diff_FID = np.array([])\n",
    "DALL_E_2_FID = np.array([])\n",
    "CogView2_FID = np.array([])\n",
    "LAFTTE_FID = np.array([])"
   ]
  },
  {
   "cell_type": "code",
   "execution_count": 3,
   "id": "dc59c446",
   "metadata": {},
   "outputs": [
    {
     "name": "stderr",
     "output_type": "stream",
     "text": [
      "/home/xiaona/anaconda3/envs/paddle_env/lib/python3.8/site-packages/numpy/core/fromnumeric.py:3432: RuntimeWarning: Mean of empty slice.\n",
      "  return _methods._mean(a, axis=axis, dtype=dtype,\n",
      "/home/xiaona/anaconda3/envs/paddle_env/lib/python3.8/site-packages/numpy/core/_methods.py:190: RuntimeWarning: invalid value encountered in double_scalars\n",
      "  ret = ret.dtype.type(ret / rcount)\n"
     ]
    }
   ],
   "source": [
    "# Calculate the average\n",
    "Real_mean = np.mean(Real_FID)\n",
    "ERNIE_mean = np.mean(ERNIE_FID)\n",
    "Stable_Diff_mean = np.mean(Stable_Diff_FID)\n",
    "DALL_E_2_mean = np.mean(DALL_E_2_FID)\n",
    "CogView2_mean = np.mean(CogView2_FID)\n",
    "LAFTTE_mean = np.mean(LAFTTE_FID)"
   ]
  },
  {
   "cell_type": "code",
   "execution_count": 4,
   "id": "d0881581",
   "metadata": {},
   "outputs": [
    {
     "name": "stderr",
     "output_type": "stream",
     "text": [
      "/home/xiaona/anaconda3/envs/paddle_env/lib/python3.8/site-packages/numpy/core/_methods.py:265: RuntimeWarning: Degrees of freedom <= 0 for slice\n",
      "  ret = _var(a, axis=axis, dtype=dtype, out=out, ddof=ddof,\n",
      "/home/xiaona/anaconda3/envs/paddle_env/lib/python3.8/site-packages/numpy/core/_methods.py:223: RuntimeWarning: invalid value encountered in divide\n",
      "  arrmean = um.true_divide(arrmean, div, out=arrmean, casting='unsafe',\n",
      "/home/xiaona/anaconda3/envs/paddle_env/lib/python3.8/site-packages/numpy/core/_methods.py:257: RuntimeWarning: invalid value encountered in double_scalars\n",
      "  ret = ret.dtype.type(ret / rcount)\n"
     ]
    }
   ],
   "source": [
    "# Calculate the standard deviation\n",
    "Real_std = np.std(Real_FID)\n",
    "ERNIE_std = np.std(ERNIE_FID)\n",
    "Stable_Diff_std = np.std(Stable_Diff_FID)\n",
    "DALL_E_2_std = np.std(DALL_E_2_FID)\n",
    "CogView2_std = np.std(CogView2_FID)\n",
    "LAFTTE_std = np.std(LAFTTE_FID)"
   ]
  },
  {
   "cell_type": "code",
   "execution_count": 5,
   "id": "aa6319e6",
   "metadata": {},
   "outputs": [],
   "source": [
    "# Create lists for the plot\n",
    "model_names = ['Real Images', 'ERNIE_ViLG', 'Stable Diffusion', 'DALL-E 2', 'Cogview2', 'LAFTTE']\n",
    "x_pos = np.arange(len(model_names))\n",
    "FID_means = [Real_mean, ERNIE_mean, Stable_Diff_mean, DALL_E_2_mean, CogView2_mean, LAFTTE_mean]\n",
    "error = [Real_std, ERNIE_std, Stable_Diff_std, DALL_E_2_std, CogView2_std, LAFTTE_std]"
   ]
  },
  {
   "cell_type": "code",
   "execution_count": 6,
   "id": "a6fa9d93",
   "metadata": {},
   "outputs": [
    {
     "data": {
      "image/png": "[encoded data removed]",
      "text/plain": [
       "<Figure size 640x480 with 1 Axes>"
      ]
     },
     "metadata": {},
     "output_type": "display_data"
    }
   ],
   "source": [
    "# Build the plot\n",
    "fig, ax = plt.subplots()\n",
    "ax.bar(x_pos, FID_means, yerr=error, align='center', alpha=0.5, ecolor='black', capsize=10)\n",
    "ax.set_ylabel('FID')\n",
    "ax.set_xticks(x_pos)\n",
    "ax.set_xticklabels(model_names)\n",
    "ax.set_title('5k Images')\n",
    "ax.yaxis.grid(True)\n",
    "\n",
    "# Save the figure and show\n",
    "plt.tight_layout()\n",
    "plt.savefig('FID_on_faces.png')\n",
    "plt.show()"
   ]
  },
  {
   "cell_type": "markdown",
   "id": "0ed1ae8d",
   "metadata": {},
   "source": [
    "## Make plot for FID score on category motion"
   ]
  },
  {
   "cell_type": "code",
   "execution_count": null,
   "id": "d2776f02",
   "metadata": {},
   "outputs": [],
   "source": [
    "# Enter FID score\n",
    "ERNIE_FID = np.array([])\n",
    "Stable_Diff_FID = np.array([])\n",
    "DALL_E_2_FID = np.array([])\n",
    "CogView2_FID = np.array([])\n",
    "LAFTTE_FID = np.array([])"
   ]
  },
  {
   "cell_type": "code",
   "execution_count": null,
   "id": "68bbe850",
   "metadata": {},
   "outputs": [],
   "source": [
    "# Calculate the average\n",
    "ERNIE_mean = np.mean(ERNIE_FID)\n",
    "Stable_Diff_mean = np.mean(Stable_Diff_FID)\n",
    "DALL_E_2_mean = np.mean(DALL_E_2_FID)\n",
    "CogView2_mean = np.mean(CogView2_FID)\n",
    "LAFTTE_mean = np.mean(LAFTTE_FID)"
   ]
  },
  {
   "cell_type": "code",
   "execution_count": null,
   "id": "72b102ab",
   "metadata": {},
   "outputs": [],
   "source": [
    "# Calculate the standard deviation\n",
    "ERNIE_std = np.std(ERNIE_FID)\n",
    "Stable_Diff_std = np.std(Stable_Diff_FID)\n",
    "DALL_E_2_std = np.std(DALL_E_2_FID)\n",
    "CogView2_std = np.std(CogView2_FID)\n",
    "LAFTTE_std = np.std(LAFTTE_FID"
   ]
  },
  {
   "cell_type": "code",
   "execution_count": null,
   "id": "a1a57bc2",
   "metadata": {},
   "outputs": [],
   "source": [
    "# Create lists for the plot\n",
    "model_names = ['ERNIE_ViLG', 'Stable Diffusion', 'DALL-E 2', 'Cogview2', 'LAFTTE']\n",
    "x_pos = np.arange(len(model_names))\n",
    "FID_means = [ERNIE_mean, Stable_Diff_mean, DALL_E_2_mean, CogView2_mean, LAFTTE_mean]\n",
    "error = [ERNIE_std, Stable_Diff_std, DALL_E_2_std, CogView2_std, LAFTTE_std]"
   ]
  },
  {
   "cell_type": "code",
   "execution_count": null,
   "id": "713e4850",
   "metadata": {},
   "outputs": [],
   "source": [
    "# Build the plot\n",
    "fig, ax = plt.subplots()\n",
    "ax.bar(x_pos, FID_means, yerr=error, align='center', alpha=0.5, ecolor='black', capsize=10)\n",
    "ax.set_ylabel('FID')\n",
    "ax.set_xticks(x_pos)\n",
    "ax.set_xticklabels(model_names)\n",
    "ax.set_title('5k Images')\n",
    "ax.yaxis.grid(True)\n",
    "\n",
    "# Save the figure and show\n",
    "plt.tight_layout()\n",
    "plt.savefig('FID_on_motion.png')\n",
    "plt.show()"
   ]
  },
  {
   "cell_type": "code",
   "execution_count": null,
   "id": "d83b6d9b",
   "metadata": {},
   "outputs": [],
   "source": []
  }
 ],
 "metadata": {
  "kernelspec": {
   "display_name": "Python 3 (ipykernel)",
   "language": "python",
   "name": "python3"
  },
  "language_info": {
   "codemirror_mode": {
    "name": "ipython",
    "version": 3
   },
   "file_extension": ".py",
   "mimetype": "text/x-python",
   "name": "python",
   "nbconvert_exporter": "python",
   "pygments_lexer": "ipython3",
   "version": "3.8.15"
  }
 },
 "nbformat": 4,
 "nbformat_minor": 5
}
