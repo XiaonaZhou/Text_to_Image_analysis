{
 "cells": [
  {
   "cell_type": "code",
   "execution_count": null,
   "id": "7dec4902",
   "metadata": {},
   "outputs": [],
   "source": [
    "from keras.models import load_model\n",
    "!pip install mtcnn\n",
    "# confirm mtcnn was installed correctly\n",
    "import mtcnn\n",
    "# print version\n",
    "print(mtcnn.__version__)\n",
    "\n",
    "import numpy as np\n",
    "from mtcnn.mtcnn import MTCNN\n",
    "from numpy import asarray\n",
    "#!pip install pycocotools\n",
    "import io\n",
    "import os\n",
    "from pycocotools.coco import COCO\n",
    "from PIL import Image\n",
    "import matplotlib.pyplot as plt\n",
    "\n",
    "\n",
    "# Simple python package to shut up Tensorflow warnings and logs.\n",
    "!pip install silence_tensorflow\n",
    "import silence_tensorflow.auto"
   ]
  },
  {
   "cell_type": "code",
   "execution_count": null,
   "id": "856f2fb8",
   "metadata": {},
   "outputs": [],
   "source": [
    "#set up folders for extracted faces and the corresponding captions \n",
    "# initialize COCO API for instance annotations\n",
    "import os\n",
    "dataDir = './'\n",
    "\n",
    "image_folder = \"extracted_mouth\"\n",
    "\n",
    "savedirimage = dataDir +  image_folder + \"/\"\n",
    "\n",
    "\n",
    "if not os.path.exists(savedirimage):\n",
    "\tos.makedirs(savedirimage)"
   ]
  },
  {
   "cell_type": "code",
   "execution_count": null,
   "id": "01fc7b95",
   "metadata": {},
   "outputs": [],
   "source": [
    "# extract eyes from extracted_face_image\n",
    "def extract_mouth_from_extratced_face(filename, index, required_size = (300, 150)):\n",
    "    # load image from file\n",
    "    image = Image.open(filename)\n",
    "    # convert to RGB, if needed\n",
    "    image = image.convert('RGB')\n",
    "    # convert to array\n",
    "    pixels = np.asarray(image)\n",
    "    # create the detector, using default weights\n",
    "    detector = MTCNN()\n",
    "    # detect faces in the image\n",
    "    results = detector.detect_faces(pixels)\n",
    "    if len(results)>=1:\n",
    "        mouth_width = abs(results[0]['keypoints']['mouth_left'][0] - results[0]['keypoints']['mouth_right'][0])\n",
    "    else:\n",
    "        return False\n",
    "    if mouth_width>=100:\n",
    "        #print(results[0])\n",
    "        xmouth= results[0]['keypoints']['mouth_left'][0]-5\n",
    "        ymouth = results[0]['keypoints']['mouth_left'][1]-10\n",
    "        width = results[0]['keypoints']['mouth_right'][0] +5\n",
    "        height = int(results[0]['keypoints']['mouth_left'][1] + results[0]['keypoints']['mouth_left'][0]/2)-5\n",
    "        mouth = pixels[ymouth:height, xmouth:width]\n",
    "        # resize pixels to the model size\n",
    "        image = Image.fromarray(mouth)\n",
    "        image = image.resize(required_size)\n",
    "        mouth_array = np.asarray(image)\n",
    "        #plt.imshow(mouth_array)\n",
    "        plt.imsave(os.path.join(savedirimage, 'mouth_img_{}.jpg'.format(index)),mouth_array)\n",
    "        return True\n",
    "    return False"
   ]
  },
  {
   "cell_type": "code",
   "execution_count": null,
   "id": "8bddb8e2",
   "metadata": {},
   "outputs": [],
   "source": [
    "files = os.listdir('extracted_faces_from_COCO/')"
   ]
  },
  {
   "cell_type": "markdown",
   "id": "a3dfad77",
   "metadata": {},
   "source": [
    "Do it in small batches"
   ]
  },
  {
   "cell_type": "code",
   "execution_count": null,
   "id": "70ce7dba",
   "metadata": {},
   "outputs": [],
   "source": [
    "index =0\n",
    "for file in files[0:2000]:\n",
    "    if extract_mouth_from_extratced_face(os.path.join('./extracted_faces_from_COCO/',file), index = index):\n",
    "        print(\"----------\" + str(index) + \"----------\")\n",
    "        index+=1"
   ]
  },
  {
   "cell_type": "code",
   "execution_count": null,
   "id": "d808774b",
   "metadata": {},
   "outputs": [],
   "source": []
  }
 ],
 "metadata": {
  "kernelspec": {
   "display_name": "Python 3 (ipykernel)",
   "language": "python",
   "name": "python3"
  },
  "language_info": {
   "codemirror_mode": {
    "name": "ipython",
    "version": 3
   },
   "file_extension": ".py",
   "mimetype": "text/x-python",
   "name": "python",
   "nbconvert_exporter": "python",
   "pygments_lexer": "ipython3",
   "version": "3.8.13"
  }
 },
 "nbformat": 4,
 "nbformat_minor": 5
}
