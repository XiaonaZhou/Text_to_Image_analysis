{
 "cells": [
  {
   "cell_type": "markdown",
   "id": "c2de3c14",
   "metadata": {},
   "source": [
    "# Calculating FID Scores"
   ]
  },
  {
   "cell_type": "markdown",
   "id": "f9032294",
   "metadata": {},
   "source": [
    "## 1. Real motion image FID score "
   ]
  },
  {
   "cell_type": "code",
   "execution_count": null,
   "id": "188d4aca",
   "metadata": {},
   "outputs": [],
   "source": [
    "import os\n",
    "import cv2\n",
    "import numpy as np\n",
    "import shutil\n",
    "num_imgs = 5000\n",
    "for k in range(10):\n",
    "    # split real faces into two folders \n",
    "    files = os.listdir('/content/motion_images/')\n",
    "    np.random.shuffle(files)\n",
    "\n",
    "    if os.path.exists('/content/motion1'):\n",
    "        shutil.rmtree('/content/motion1')  \n",
    "    os.mkdir('/content/motion1')    \n",
    "\n",
    "\n",
    "    if os.path.exists('/content/motion2'):\n",
    "        shutil.rmtree('/content/motion2')  \n",
    "    os.mkdir('/content/motion2')    \n",
    "\n",
    "\n",
    "    for i, f in enumerate(files[:10000]):\n",
    "        if i%2:\n",
    "            shutil.copy(f'/content/motion_images/{f}',f'/content/motion1/{f}')\n",
    "        else:\n",
    "            shutil.copy(f'/content/motion_images/{f}',f'/content/motion2/{f}')    \n",
    "\n",
    "\n",
    "    !python -m pytorch_fid /content/motion1/ /content/motion2/ --device cuda:0"
   ]
  },
  {
   "cell_type": "markdown",
   "id": "069e8ecc",
   "metadata": {},
   "source": [
    "## 2. Generated motion image FID score"
   ]
  },
  {
   "cell_type": "code",
   "execution_count": null,
   "id": "039ce33b",
   "metadata": {},
   "outputs": [],
   "source": [
    "import os\n",
    "import cv2\n",
    "import numpy as np\n",
    "import shutil\n",
    "\n",
    "paths = {'real': ('/content/real_faces/', '/content/drive/MyDrive/FineGrainedEval/tmp_real/'), \n",
    "         'generated': ('/content/generated_data/faces_generated/', '/content/drive/MyDrive/FineGrainedEval/tmp_generated/')}\n",
    "\n",
    "# res = {}\n",
    "num_imgs = 5000\n",
    "for k in range(10):\n",
    "    print(k)\n",
    "    for f in ['real', 'generated']: #range(2):\n",
    "        img_path, save_path = paths[f]\n",
    "        files = os.listdir(img_path)\n",
    "\n",
    "        np.random.shuffle(files)\n",
    "\n",
    "        if os.path.exists(save_path):\n",
    "            shutil.rmtree(save_path)    \n",
    "        os.mkdir(save_path)\n",
    "\n",
    "        print(save_path)\n",
    "\n",
    "        count = 0\n",
    "        while count < num_imgs:    \n",
    "            for f_name in files:\n",
    "            image = cv2.imread(os.path.join(img_path,f_name))\n",
    "            cv2.imwrite(os.path.join(save_path, f_name), image)\n",
    "\n",
    "            count += 1\n",
    "            if count >= num_imgs: break          \n",
    "\n",
    "    !python -m pytorch_fid /content/drive/MyDrive/FineGrainedEval/tmp_real/ /content/drive/MyDrive/FineGrainedEval/tmp_generated/ --device cuda:0"
   ]
  }
 ],
 "metadata": {
  "kernelspec": {
   "display_name": "Python 3 (ipykernel)",
   "language": "python",
   "name": "python3"
  },
  "language_info": {
   "codemirror_mode": {
    "name": "ipython",
    "version": 3
   },
   "file_extension": ".py",
   "mimetype": "text/x-python",
   "name": "python",
   "nbconvert_exporter": "python",
   "pygments_lexer": "ipython3",
   "version": "3.8.13"
  }
 },
 "nbformat": 4,
 "nbformat_minor": 5
}
