{
 "cells": [
  {
   "cell_type": "markdown",
   "id": "ca09568e",
   "metadata": {},
   "source": [
    "## In this notebook, we generate images with motion captions extracted from COCO dataset. "
   ]
  },
  {
   "cell_type": "markdown",
   "id": "61012a1a",
   "metadata": {},
   "source": [
    "I first tried to pick random lines in the `motion_captions.txt` and generate images. , but I soon found that this is not efficient.  "
   ]
  },
  {
   "cell_type": "code",
   "execution_count": null,
   "id": "cec98e2e",
   "metadata": {},
   "outputs": [],
   "source": [
    "import paddlehub as hub\n",
    "import random\n",
    "import translators as ts # translate caption from English to Chinese\n",
    "random.seed(5824)\n",
    "lines = open('motion_captions.txt').read().splitlines()\n",
    "module = hub.Module(name=\"ernie_vilg\")\n",
    "for i in range(50):\n",
    "    prompt = ts.baidu(random.choice(lines), professional_field='common')\n",
    "    try: # for certain prompts, error message \"暂不支持创作该内容，请修改后再试 (does not support this prompt, please modify)\"\n",
    "         # was returned\n",
    "        module.generate_image(text_prompts=prompt, style='写实风格',  output_dir='./motion_images/',topk=1)\n",
    "    except:\n",
    "        continue"
   ]
  },
  {
   "cell_type": "markdown",
   "id": "2a04d3db",
   "metadata": {},
   "source": [
    "I picked random numbers between 0 and 99999 and used captions in those lines to generate images. "
   ]
  },
  {
   "cell_type": "code",
   "execution_count": null,
   "id": "37885e27",
   "metadata": {},
   "outputs": [],
   "source": [
    "import random\n",
    "random.seed(54321)\n",
    "#Generate 430 random numbers between 0 and 9999\n",
    "randomlist = random.sample(range(0, 9999), 600)"
   ]
  },
  {
   "cell_type": "code",
   "execution_count": null,
   "id": "9bfbc6dc",
   "metadata": {},
   "outputs": [],
   "source": [
    "import paddlehub as hub\n",
    "import translators as ts\n",
    "lines = open('motion_captions.txt').read().splitlines()\n",
    "module = hub.Module(name=\"ernie_vilg\")\n",
    "for i in range(512, 514):\n",
    "    prompt = ts.baidu(lines[randomlist[i]], professional_field='common')\n",
    "    try: # for certain prompts, error message \"暂不支持创作该内容，请修改后再试 (does not support this prompt, please modify)\" was returned\n",
    "        module.generate_image(text_prompts=prompt, style='写实风格',  output_dir='./generated_motion_images_with_ERNIE_ViLG/',topk=1)\n",
    "        print(i)\n",
    "    except:\n",
    "        continue"
   ]
  },
  {
   "cell_type": "markdown",
   "id": "61d91a71",
   "metadata": {},
   "source": [
    "Tried to use the [python package](https://pypi.org/project/baidu-trans/#description), but it did not work. "
   ]
  },
  {
   "cell_type": "code",
   "execution_count": null,
   "id": "8caa3cc5",
   "metadata": {},
   "outputs": [],
   "source": [
    "#!pip install baidu_trans"
   ]
  },
  {
   "cell_type": "code",
   "execution_count": null,
   "id": "627f89aa",
   "metadata": {},
   "outputs": [],
   "source": [
    "#from baidu_trans import Translator"
   ]
  },
  {
   "cell_type": "markdown",
   "id": "62a04719",
   "metadata": {},
   "source": [
    "[Translators library](https://pypi.org/project/translate-api/) also has Baidu Translate. "
   ]
  },
  {
   "cell_type": "code",
   "execution_count": null,
   "id": "b0ee2976",
   "metadata": {
    "scrolled": true
   },
   "outputs": [],
   "source": [
    "#!pip install translators --upgrade"
   ]
  },
  {
   "cell_type": "code",
   "execution_count": null,
   "id": "5bb03146",
   "metadata": {},
   "outputs": [],
   "source": [
    "import translators as ts"
   ]
  }
 ],
 "metadata": {
  "kernelspec": {
   "display_name": "Python 3 (ipykernel)",
   "language": "python",
   "name": "python3"
  },
  "language_info": {
   "codemirror_mode": {
    "name": "ipython",
    "version": 3
   },
   "file_extension": ".py",
   "mimetype": "text/x-python",
   "name": "python",
   "nbconvert_exporter": "python",
   "pygments_lexer": "ipython3",
   "version": "3.8.13"
  }
 },
 "nbformat": 4,
 "nbformat_minor": 5
}
