{
 "cells": [
  {
   "cell_type": "markdown",
   "id": "09c0bd36",
   "metadata": {},
   "source": [
    "### In this notebook, I first generate faces using captions from COCO dataset using ERNIE-ViLG, and then, I using face detector to extract faces from the images generated. "
   ]
  },
  {
   "cell_type": "code",
   "execution_count": 1,
   "id": "4e4d0217",
   "metadata": {},
   "outputs": [],
   "source": [
    "#!pip install translators --upgrade"
   ]
  },
  {
   "cell_type": "markdown",
   "id": "97d68120",
   "metadata": {},
   "source": [
    "Load caption data"
   ]
  },
  {
   "cell_type": "code",
   "execution_count": 4,
   "id": "c75b74bb",
   "metadata": {},
   "outputs": [
    {
     "name": "stderr",
     "output_type": "stream",
     "text": [
      "/home/xiaona/anaconda3/envs/paddle_env/lib/python3.8/site-packages/_distutils_hack/__init__.py:33: UserWarning: Setuptools is replacing distutils.\n",
      "  warnings.warn(\"Setuptools is replacing distutils.\")\n",
      "Using state Virginia server backend.\n"
     ]
    }
   ],
   "source": [
    "import paddlehub as hub\n",
    "import translators as ts\n",
    "lines = open('face_captions.txt').read().splitlines()"
   ]
  },
  {
   "cell_type": "code",
   "execution_count": 1,
   "id": "8e33336c",
   "metadata": {},
   "outputs": [],
   "source": [
    "import random\n",
    "random.seed(42)\n",
    "#Generate 1000 random numbers between 0 and 9999\n",
    "# I plan to generate about 600 images, but may need to come back generate more if some of the images do not contain a good face\n",
    "randomlist = random.sample(range(0, 9999), 1000)"
   ]
  },
  {
   "cell_type": "code",
   "execution_count": 2,
   "id": "0b374842",
   "metadata": {},
   "outputs": [
    {
     "data": {
      "text/plain": [
       "1000"
      ]
     },
     "execution_count": 2,
     "metadata": {},
     "output_type": "execute_result"
    }
   ],
   "source": [
    "len(randomlist)"
   ]
  },
  {
   "cell_type": "code",
   "execution_count": 3,
   "id": "accbf28a",
   "metadata": {},
   "outputs": [
    {
     "data": {
      "text/plain": [
       "[1824, 409, 4506, 4012, 3657, 2286, 1679, 8935, 1424, 9674]"
      ]
     },
     "execution_count": 3,
     "metadata": {},
     "output_type": "execute_result"
    }
   ],
   "source": [
    "randomlist[:10]"
   ]
  },
  {
   "cell_type": "markdown",
   "id": "f4eb9eff",
   "metadata": {},
   "source": [
    "Start generating face images"
   ]
  },
  {
   "cell_type": "code",
   "execution_count": null,
   "id": "f217931f",
   "metadata": {},
   "outputs": [
    {
     "data": {
      "application/vnd.jupyter.widget-view+json": {
       "model_id": "c41b32f261604b6ea8a757b81695fc1c",
       "version_major": 2,
       "version_minor": 0
      },
      "text/plain": [
       "  0%|          | 0/100 [00:00<?, ?%/s]"
      ]
     },
     "metadata": {},
     "output_type": "display_data"
    },
    {
     "name": "stdout",
     "output_type": "stream",
     "text": [
      "Saving Images...\n",
      "Done\n",
      "181\n"
     ]
    },
    {
     "data": {
      "application/vnd.jupyter.widget-view+json": {
       "model_id": "ef64450eb9334facb73e38f63670fa91",
       "version_major": 2,
       "version_minor": 0
      },
      "text/plain": [
       "  0%|          | 0/100 [00:00<?, ?%/s]"
      ]
     },
     "metadata": {},
     "output_type": "display_data"
    },
    {
     "name": "stdout",
     "output_type": "stream",
     "text": [
      "Saving Images...\n",
      "Done\n",
      "182\n"
     ]
    },
    {
     "data": {
      "application/vnd.jupyter.widget-view+json": {
       "model_id": "d2f081f3531a49bb856f1dde58b485dd",
       "version_major": 2,
       "version_minor": 0
      },
      "text/plain": [
       "  0%|          | 0/100 [00:00<?, ?%/s]"
      ]
     },
     "metadata": {},
     "output_type": "display_data"
    },
    {
     "name": "stdout",
     "output_type": "stream",
     "text": [
      "Saving Images...\n",
      "Done\n",
      "183\n"
     ]
    },
    {
     "data": {
      "application/vnd.jupyter.widget-view+json": {
       "model_id": "59caa8cfa43845bdb47bfdaa325aa894",
       "version_major": 2,
       "version_minor": 0
      },
      "text/plain": [
       "  0%|          | 0/100 [00:00<?, ?%/s]"
      ]
     },
     "metadata": {},
     "output_type": "display_data"
    },
    {
     "name": "stdout",
     "output_type": "stream",
     "text": [
      "Saving Images...\n",
      "Done\n",
      "184\n"
     ]
    },
    {
     "data": {
      "application/vnd.jupyter.widget-view+json": {
       "model_id": "47aa090f8d7942779f5f14f15face761",
       "version_major": 2,
       "version_minor": 0
      },
      "text/plain": [
       "  0%|          | 0/100 [00:00<?, ?%/s]"
      ]
     },
     "metadata": {},
     "output_type": "display_data"
    },
    {
     "name": "stdout",
     "output_type": "stream",
     "text": [
      "Saving Images...\n",
      "Done\n",
      "185\n"
     ]
    },
    {
     "data": {
      "application/vnd.jupyter.widget-view+json": {
       "model_id": "697ec21c259c48818bc87ac81fc36ca3",
       "version_major": 2,
       "version_minor": 0
      },
      "text/plain": [
       "  0%|          | 0/100 [00:00<?, ?%/s]"
      ]
     },
     "metadata": {},
     "output_type": "display_data"
    },
    {
     "name": "stdout",
     "output_type": "stream",
     "text": [
      "Saving Images...\n",
      "Done\n",
      "186\n"
     ]
    },
    {
     "data": {
      "application/vnd.jupyter.widget-view+json": {
       "model_id": "d9f7266d6b384858b5499ce1de95c183",
       "version_major": 2,
       "version_minor": 0
      },
      "text/plain": [
       "  0%|          | 0/100 [00:00<?, ?%/s]"
      ]
     },
     "metadata": {},
     "output_type": "display_data"
    },
    {
     "name": "stdout",
     "output_type": "stream",
     "text": [
      "Saving Images...\n",
      "Done\n",
      "187\n"
     ]
    },
    {
     "data": {
      "application/vnd.jupyter.widget-view+json": {
       "model_id": "d635debaa23a48d299769a51ed4e3c15",
       "version_major": 2,
       "version_minor": 0
      },
      "text/plain": [
       "  0%|          | 0/100 [00:00<?, ?%/s]"
      ]
     },
     "metadata": {},
     "output_type": "display_data"
    },
    {
     "name": "stdout",
     "output_type": "stream",
     "text": [
      "Saving Images...\n",
      "Done\n",
      "188\n"
     ]
    },
    {
     "data": {
      "application/vnd.jupyter.widget-view+json": {
       "model_id": "a4e95586f02f4074bccc76399b20c685",
       "version_major": 2,
       "version_minor": 0
      },
      "text/plain": [
       "  0%|          | 0/100 [00:00<?, ?%/s]"
      ]
     },
     "metadata": {},
     "output_type": "display_data"
    },
    {
     "name": "stdout",
     "output_type": "stream",
     "text": [
      "Saving Images...\n",
      "Done\n",
      "189\n"
     ]
    },
    {
     "data": {
      "application/vnd.jupyter.widget-view+json": {
       "model_id": "cb93022b4f044343be9e34672cd21ab5",
       "version_major": 2,
       "version_minor": 0
      },
      "text/plain": [
       "  0%|          | 0/100 [00:00<?, ?%/s]"
      ]
     },
     "metadata": {},
     "output_type": "display_data"
    }
   ],
   "source": [
    "import paddlehub as hub\n",
    "import translators as ts\n",
    "module = hub.Module(name=\"ernie_vilg\")\n",
    "for i in range(181,350):\n",
    "    prompt = ts.baidu(lines[randomlist[i]], professional_field='common')\n",
    "    try: # for certain prompts, error message \"暂不支持创作该内容，请修改后再试 (does not support this prompt, please modify)\" was returned\n",
    "        module.generate_image(text_prompts=prompt, style='写实风格',  output_dir='./generated_face_images/',topk=1)\n",
    "        print(i)      \n",
    "    except:\n",
    "        continue"
   ]
  },
  {
   "cell_type": "markdown",
   "id": "272ed425",
   "metadata": {},
   "source": [
    "extract faces from the generated face images "
   ]
  },
  {
   "cell_type": "code",
   "execution_count": null,
   "id": "9b43a791",
   "metadata": {},
   "outputs": [],
   "source": [
    "#set up folders for extracted faces \n",
    "# initialize COCO API for instance annotations\n",
    "dataDir = './'\n",
    "\n",
    "image_folder = \"extracted_generated_faces\"\n",
    "\n",
    "savedirimage = dataDir + \"cocoapi/images/\" + image_folder + \"/\"\n",
    "\n",
    "\n",
    "\n",
    "if not os.path.exists(savedirimage):\n",
    "\tos.makedirs(savedirimage)"
   ]
  },
  {
   "cell_type": "code",
   "execution_count": null,
   "id": "484ffcb9",
   "metadata": {},
   "outputs": [],
   "source": [
    "# install all packages\n",
    "from keras.models import load_model\n",
    "!pip install mtcnn\n",
    "# confirm mtcnn was installed correctly\n",
    "import mtcnn\n",
    "# print version\n",
    "print(mtcnn.__version__)\n",
    "\n",
    "import numpy as np\n",
    "from mtcnn.mtcnn import MTCNN\n",
    "from numpy import asarray\n",
    "\n",
    "\n",
    "# Simple python package to shut up Tensorflow warnings and logs.\n",
    "!pip install silence_tensorflow\n",
    "import silence_tensorflow.auto"
   ]
  },
  {
   "cell_type": "code",
   "execution_count": null,
   "id": "d5d69bbd",
   "metadata": {},
   "outputs": [],
   "source": [
    "# extract a single face from a given photograph\n",
    "def extract_face(filename, index, required_size=(250, 250), threshold = 0.99):\n",
    "    # load image from file\n",
    "    image = Image.open(filename)\n",
    "    # convert to RGB, if needed\n",
    "    image = image.convert('RGB')\n",
    "    # convert to array\n",
    "    pixels = np.asarray(image)\n",
    "    # create the detector, using default weights\n",
    "    detector = MTCNN()\n",
    "    # detect faces in the image\n",
    "    results = detector.detect_faces(pixels)\n",
    "    # extract the bounding box from the first face\n",
    "    if len(results) >=1 and results[0]['confidence'] >= threshold:\n",
    "        x1, y1, width, height = results[0]['box']\n",
    "        if height-width>=15:\n",
    "            # bug fix\n",
    "            x1, y1 = abs(x1), abs(y1)\n",
    "            x2, y2 = x1 + width, y1 + height\n",
    "            # extract the face\n",
    "            face = pixels[y1:y2, x1:x2]\n",
    "            # resize pixels to the model size\n",
    "            image = Image.fromarray(face)\n",
    "            image = image.resize(required_size)\n",
    "            face_array = np.asarray(image)\n",
    "            plt.imsave(os.path.join(savedirimage, 'face_img_{}.jpg'.format(index)),face_array)\n",
    "            return True\n",
    "    return False"
   ]
  }
 ],
 "metadata": {
  "kernelspec": {
   "display_name": "Python 3 (ipykernel)",
   "language": "python",
   "name": "python3"
  },
  "language_info": {
   "codemirror_mode": {
    "name": "ipython",
    "version": 3
   },
   "file_extension": ".py",
   "mimetype": "text/x-python",
   "name": "python",
   "nbconvert_exporter": "python",
   "pygments_lexer": "ipython3",
   "version": "3.8.15"
  }
 },
 "nbformat": 4,
 "nbformat_minor": 5
}
