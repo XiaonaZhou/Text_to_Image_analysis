{
 "cells": [
  {
   "cell_type": "code",
   "execution_count": 1,
   "id": "4e4d0217",
   "metadata": {},
   "outputs": [
    {
     "name": "stdout",
     "output_type": "stream",
     "text": [
      "Requirement already satisfied: translators in /home/xiaona/anaconda3/envs/paddle_env/lib/python3.8/site-packages (5.5.0)\n",
      "Requirement already satisfied: PyExecJS>=1.5.1 in /home/xiaona/anaconda3/envs/paddle_env/lib/python3.8/site-packages (from translators) (1.5.1)\n",
      "Requirement already satisfied: lxml>=4.9.1 in /home/xiaona/anaconda3/envs/paddle_env/lib/python3.8/site-packages (from translators) (4.9.1)\n",
      "Requirement already satisfied: pathos>=0.2.9 in /home/xiaona/anaconda3/envs/paddle_env/lib/python3.8/site-packages (from translators) (0.3.0)\n",
      "Requirement already satisfied: cryptography>=38.0.1 in /home/xiaona/anaconda3/envs/paddle_env/lib/python3.8/site-packages (from translators) (38.0.1)\n",
      "Requirement already satisfied: requests>=2.28.1 in /home/xiaona/anaconda3/envs/paddle_env/lib/python3.8/site-packages (from translators) (2.28.1)\n",
      "Requirement already satisfied: cffi>=1.12 in /home/xiaona/anaconda3/envs/paddle_env/lib/python3.8/site-packages (from cryptography>=38.0.1->translators) (1.15.1)\n",
      "Requirement already satisfied: dill>=0.3.6 in /home/xiaona/anaconda3/envs/paddle_env/lib/python3.8/site-packages (from pathos>=0.2.9->translators) (0.3.6)\n",
      "Requirement already satisfied: pox>=0.3.2 in /home/xiaona/anaconda3/envs/paddle_env/lib/python3.8/site-packages (from pathos>=0.2.9->translators) (0.3.2)\n",
      "Requirement already satisfied: multiprocess>=0.70.14 in /home/xiaona/anaconda3/envs/paddle_env/lib/python3.8/site-packages (from pathos>=0.2.9->translators) (0.70.14)\n",
      "Requirement already satisfied: ppft>=1.7.6.6 in /home/xiaona/anaconda3/envs/paddle_env/lib/python3.8/site-packages (from pathos>=0.2.9->translators) (1.7.6.6)\n",
      "Requirement already satisfied: six>=1.10.0 in /home/xiaona/anaconda3/envs/paddle_env/lib/python3.8/site-packages (from PyExecJS>=1.5.1->translators) (1.16.0)\n",
      "Requirement already satisfied: charset-normalizer<3,>=2 in /home/xiaona/anaconda3/envs/paddle_env/lib/python3.8/site-packages (from requests>=2.28.1->translators) (2.1.1)\n",
      "Requirement already satisfied: idna<4,>=2.5 in /home/xiaona/anaconda3/envs/paddle_env/lib/python3.8/site-packages (from requests>=2.28.1->translators) (3.4)\n",
      "Requirement already satisfied: certifi>=2017.4.17 in /home/xiaona/anaconda3/envs/paddle_env/lib/python3.8/site-packages (from requests>=2.28.1->translators) (2022.9.24)\n",
      "Requirement already satisfied: urllib3<1.27,>=1.21.1 in /home/xiaona/anaconda3/envs/paddle_env/lib/python3.8/site-packages (from requests>=2.28.1->translators) (1.26.12)\n",
      "Requirement already satisfied: pycparser in /home/xiaona/anaconda3/envs/paddle_env/lib/python3.8/site-packages (from cffi>=1.12->cryptography>=38.0.1->translators) (2.21)\n"
     ]
    }
   ],
   "source": [
    "!pip install translators --upgrade"
   ]
  },
  {
   "cell_type": "code",
   "execution_count": 4,
   "id": "c75b74bb",
   "metadata": {},
   "outputs": [],
   "source": [
    "import paddlehub as hub\n",
    "import translators as ts\n",
    "lines = open('face_captions.txt').read().splitlines()"
   ]
  },
  {
   "cell_type": "code",
   "execution_count": 8,
   "id": "8e33336c",
   "metadata": {},
   "outputs": [],
   "source": [
    "import random\n",
    "#Generate 500 random numbers between 0 and 9999\n",
    "randomlist = random.sample(range(0, 9999), 500)"
   ]
  },
  {
   "cell_type": "code",
   "execution_count": 9,
   "id": "0b374842",
   "metadata": {},
   "outputs": [
    {
     "data": {
      "text/plain": [
       "500"
      ]
     },
     "execution_count": 9,
     "metadata": {},
     "output_type": "execute_result"
    }
   ],
   "source": [
    "len(randomlist)"
   ]
  },
  {
   "cell_type": "code",
   "execution_count": null,
   "id": "f217931f",
   "metadata": {},
   "outputs": [],
   "source": [
    "import paddlehub as hub\n",
    "import translators as ts\n",
    "lines = open('face_captions.txt').read().splitlines()\n",
    "module = hub.Module(name=\"ernie_vilg\")\n",
    "for i in range(100):\n",
    "    prompt = ts.baidu(lines[randomlist[i]], professional_field='common')\n",
    "    try: # for certain prompts, error message \"暂不支持创作该内容，请修改后再试 (does not support this prompt, please modify)\" was returned\n",
    "        module.generate_image(text_prompts=prompt, style='写实风格',  output_dir='./generated_face_images/',topk=1)\n",
    "        print(i)      \n",
    "    except:\n",
    "        continue"
   ]
  }
 ],
 "metadata": {
  "kernelspec": {
   "display_name": "Python 3 (ipykernel)",
   "language": "python",
   "name": "python3"
  },
  "language_info": {
   "codemirror_mode": {
    "name": "ipython",
    "version": 3
   },
   "file_extension": ".py",
   "mimetype": "text/x-python",
   "name": "python",
   "nbconvert_exporter": "python",
   "pygments_lexer": "ipython3",
   "version": "3.8.13"
  }
 },
 "nbformat": 4,
 "nbformat_minor": 5
}
